{
  "nbformat": 4,
  "nbformat_minor": 0,
  "metadata": {
    "colab": {
      "provenance": [],
      "authorship_tag": "ABX9TyO5p+rb4H+89tden2khpNWg",
      "include_colab_link": true
    },
    "kernelspec": {
      "name": "python3",
      "display_name": "Python 3"
    },
    "language_info": {
      "name": "python"
    }
  },
  "cells": [
    {
      "cell_type": "markdown",
      "metadata": {
        "id": "view-in-github",
        "colab_type": "text"
      },
      "source": [
        "<a href=\"https://colab.research.google.com/github/woodhil/woodhill/blob/main/Untitled8.ipynb\" target=\"_parent\"><img src=\"https://colab.research.google.com/assets/colab-badge.svg\" alt=\"Open In Colab\"/></a>"
      ]
    },
    {
      "cell_type": "code",
      "execution_count": 1,
      "metadata": {
        "colab": {
          "base_uri": "https://localhost:8080/"
        },
        "id": "UDv4XsE5C5ox",
        "outputId": "0375406b-8d09-4992-9121-57ba8433f17a"
      },
      "outputs": [
        {
          "output_type": "stream",
          "name": "stdout",
          "text": [
            "Fail\n"
          ]
        }
      ],
      "source": [
        "grade=60\n",
        "if grade>=90:\n",
        " print(\"A\")\n",
        "elif grade >=80:\n",
        "  print(\"B\")\n",
        "elif grade >=70:\n",
        "  print(\"C\")\n",
        "else:\n",
        "  print(\"Fail\")\n"
      ]
    },
    {
      "cell_type": "code",
      "source": [
        "from random import randint\n",
        "num = randint(1,100)\n",
        "print(num)\n",
        "if num % 2 ==0:\n",
        "   print(\"偶數\")"
      ],
      "metadata": {
        "colab": {
          "base_uri": "https://localhost:8080/"
        },
        "id": "fJaOH-vfKRaG",
        "outputId": "67daa8c6-58b2-4828-ac8e-98e3b8e3118c"
      },
      "execution_count": 4,
      "outputs": [
        {
          "output_type": "stream",
          "name": "stdout",
          "text": [
            "20\n",
            "偶數\n"
          ]
        }
      ]
    }
  ]
}